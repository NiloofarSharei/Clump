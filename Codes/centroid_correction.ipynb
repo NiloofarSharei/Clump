{
 "cells": [
  {
   "cell_type": "code",
   "execution_count": 75,
   "metadata": {},
   "outputs": [
    {
     "name": "stderr",
     "output_type": "stream",
     "text": [
      "/var/folders/by/26kj85kd3w94p3xv_m2206b40000gn/T/ipykernel_93664/986476987.py:6: DeprecationWarning: `photutils.SkyCircularAperture` is a deprecated alias for `photutils.aperture.SkyCircularAperture` and will be removed in the future. Instead, please use `from photutils.aperture import SkyCircularAperture` to silence this warning.\n",
      "  from photutils import SkyCircularAperture, aperture_photometry\n",
      "/var/folders/by/26kj85kd3w94p3xv_m2206b40000gn/T/ipykernel_93664/986476987.py:6: DeprecationWarning: `photutils.aperture_photometry` is a deprecated alias for `photutils.aperture.aperture_photometry` and will be removed in the future. Instead, please use `from photutils.aperture import aperture_photometry` to silence this warning.\n",
      "  from photutils import SkyCircularAperture, aperture_photometry\n"
     ]
    }
   ],
   "source": [
    "import numpy as np\n",
    "import pandas as pd\n",
    "from astropy.wcs import WCS\n",
    "from astropy.io import fits\n",
    "import matplotlib.pyplot as plt\n",
    "from photutils import SkyCircularAperture, aperture_photometry\n",
    "import astropy.units as u\n",
    "from astropy.coordinates import SkyCoord\n"
   ]
  },
  {
   "cell_type": "code",
   "execution_count": 32,
   "metadata": {},
   "outputs": [],
   "source": [
    "goodss_result = pd.read_csv('/Users/neal/Documents/PhD/projects/SED-fitting/Clump/results/catalog_n/xandyadded_goodsslast.csv')"
   ]
  },
  {
   "cell_type": "code",
   "execution_count": 72,
   "metadata": {},
   "outputs": [],
   "source": [
    "def load_image(galaxy_id, band):\n",
    "    # the base path where the FITS files \n",
    "    base_path = '/Users/neal/Documents/PhD/projects/SED-fitting/Clump/Cutouts_galaxies'\n",
    "    \n",
    "    # Construct the filename using the galaxy ID and band\n",
    "    file_name = f'{base_path}/goodss_{galaxy_id}_{band}_images.fits'\n",
    "    \n",
    "    # Open the FITS file and return the image data\n",
    "    with fits.open(file_name) as hdul:\n",
    "        image_data = hdul[0].data\n",
    "    \n",
    "    return image_data"
   ]
  },
  {
   "cell_type": "code",
   "execution_count": 73,
   "metadata": {},
   "outputs": [],
   "source": [
    "\n",
    "# Define a function to get the appropriate band based on redshift\n",
    "def get_band_from_redshift(z):\n",
    "    if 0.5 <= z < 1:\n",
    "        return 'f275w'\n",
    "    elif 1 <= z < 2:\n",
    "        return 'f435w'\n",
    "    elif 2 <= z <= 3:\n",
    "        return 'f606w'\n",
    "    else:\n",
    "        raise ValueError(\"Redshift out of bounds for band selection\")"
   ]
  },
  {
   "cell_type": "code",
   "execution_count": 70,
   "metadata": {},
   "outputs": [],
   "source": [
    "def mask_other_clumps(image, clump_positions, wcs, mask_radius):\n",
    "    masked_image = np.copy(image)  # Copy the image to not alter the original\n",
    "    \n",
    "    for clump_pos in clump_positions:\n",
    "        # Convert clump position to SkyCoord object\n",
    "        clump_coord = SkyCoord(ra=clump_pos[0] * u.deg, dec=clump_pos[1] * u.deg)\n",
    "        \n",
    "        # Create circular aperture and corresponding mask for this clump\n",
    "        aperture = SkyCircularAperture(clump_coord, r=mask_radius * u.arcsec)\n",
    "        mask = aperture.to_pixel(wcs).to_mask(method='center')\n",
    "        \n",
    "        # Apply the mask to the image\n",
    "        image_cutout = mask.apply(masked_image, fill_value=0)\n",
    "        \n",
    "        # Update the masked_image\n",
    "        slices = mask.bbox.slices\n",
    "        masked_image[slices] = image_cutout\n",
    "        \n",
    "    return masked_image\n"
   ]
  },
  {
   "cell_type": "code",
   "execution_count": 48,
   "metadata": {},
   "outputs": [],
   "source": [
    "# def centroid(im, region=None):\n",
    "#     \"\"\"Compute centroid of image or region (M10/M00, M01/M00) (x, y).\"\"\"\n",
    "#     if region is not None:\n",
    "#         im = im[region[0]:region[1], region[2]:region[3]]\n",
    "#         offset = [region[2], region[0]]\n",
    "#     else: \n",
    "#         offset = [0, 0]\n",
    "#     m00 = np.sum(im)\n",
    "#     m10 = np.sum(np.sum(im, axis=1) * np.arange(im.shape[0]))\n",
    "#     m01 = np.sum(np.sum(im, axis=0) * np.arange(im.shape[1]))\n",
    "#     return [m10 / m00 + offset[0], m01 / m00 + offset[1]]\n",
    "def centroid(im, region=None):\n",
    "    \"\"\"Compute centroid of image or region (M10/M00, M01/M00) (x, y).\"\"\"\n",
    "    if region is not None:\n",
    "        im = im[region[0]:region[1], region[2]:region[3]]\n",
    "        offset = [region[2], region[0]]\n",
    "    else: \n",
    "        offset = [0, 0]\n",
    "    m00 = np.sum(im)\n",
    "    m10 = np.sum(np.sum(im, axis=1) * np.arange(im.shape[0]))  # Check axis order\n",
    "    m01 = np.sum(np.sum(im, axis=0) * np.arange(im.shape[1]))\n",
    "    print(f\"m00: {m00}, m10: {m10}, m01: {m01}\")  # Debug outputs\n",
    "    if m00 == 0:\n",
    "        return [np.nan, np.nan]\n",
    "    return [m10 / m00 + offset[0], m01 / m00 + offset[1]]\n",
    "\n"
   ]
  },
  {
   "cell_type": "code",
   "execution_count": 37,
   "metadata": {},
   "outputs": [],
   "source": [
    "mask_radius = 3"
   ]
  },
  {
   "cell_type": "code",
   "execution_count": 38,
   "metadata": {},
   "outputs": [],
   "source": [
    "goodss_result['new_X_centroid'] = np.nan\n",
    "goodss_result['new_Y_centroid'] = np.nan\n"
   ]
  },
  {
   "cell_type": "code",
   "execution_count": 82,
   "metadata": {},
   "outputs": [],
   "source": [
    "# Assuming your DataFrame has 'X_clump' and 'Y_clump' columns with initial clump positions\n",
    "\n",
    "for index, row in goodss_result.iterrows():\n",
    "    if row['RA_clump'] == -99 or row['DEC_clump'] == -99: \n",
    "        continue\n",
    "         # Exclude entries without a detected clump\n",
    "        # Get the appropriate band based on redshift\n",
    "        band = get_band_from_redshift(row['z'])\n",
    "        \n",
    "        # Load the image data for the current clump\n",
    "        image_data = load_image(row['CANDELS_ID'], band)\n",
    "        print(f\"Image data shape: {image_data.shape}, max value: {np.max(image_data)}, min value: {np.min(image_data)}\")\n",
    "\n",
    "        # Get all clump positions for the current galaxy (excluding the current clump)\n",
    "        # converting the clump positions to integers for the purpose of slicing the image array doesn't change their actual positions; it is a necessary step for indexing arrays which requires integer indices. \n",
    "        # clump_positions = [(int(x), int(y)) for idx, (x, y) in enumerate(zip(goodss_result['X_clump'], goodss_result['Y_clump'])) if idx != index]\n",
    "        # print(f\"Clump positions (excluding current): {clump_positions}\")\n",
    "\n",
    "        # Convert RA and DEC to SkyCoord object, ensuring they are in degrees\n",
    "        # ra_dec_positions = [(ra, dec) for ra, dec in zip(goodss_result['RA_clump'], goodss_result['DEC_clump'])]\n",
    "        #  Ensure that we're only including valid clump positions for masking\n",
    "        valid_clump_indices = goodss_result[(goodss_result['RA_clump'] != -99) & (goodss_result['DEC_clump'] != -99)].index.tolist()\n",
    "        valid_clump_positions = [(x, y) for idx, (x, y) in enumerate(zip(goodss_result['X_clump'], goodss_result['Y_clump'])) if idx in valid_clump_indices and idx != index]\n",
    "    \n",
    "        # sky_positions = [SkyCoord(ra=ra*u.deg, dec=dec*u.deg) for ra, dec in valid_clump_positions if not np.isnan(ra) and not np.isnan(dec)]\n",
    "        \n",
    "        # # Apply the mask to the image data\n",
    "        masked_image = mask_other_clumps(image_data, valid_clump_positions, index, mask_radius=3)\n",
    "\n",
    "        y_min = max(0, int(row['Y_clump']) - mask_radius)\n",
    "        y_max = min(image_data.shape[0], int(row['Y_clump']) + mask_radius)\n",
    "        x_min = max(0, int(row['X_clump']) - mask_radius)\n",
    "        x_max = min(image_data.shape[1], int(row['X_clump']) + mask_radius)\n",
    "\n",
    "        # y_min = max(0, int(row['Y_clump']) - mask_radius)\n",
    "        # y_max = min(masked_image.shape[0], int(row['Y_clump']) + mask_radius)\n",
    "        # x_min = max(0, int(row['X_clump']) - mask_radius)\n",
    "        # x_max = min(masked_image.shape[1], int(row['X_clump']) + mask_radius)\n",
    "        # # Fixing the order of bounds if necessary\n",
    "        y_min, y_max = sorted([y_min, y_max])\n",
    "        x_min, x_max = sorted([x_min, x_max])\n",
    "\n",
    "\n",
    "        print(f\"Inspecting region y:{y_min}-{y_max}, x:{x_min}-{x_max}\")  # Check bounds\n",
    "        region = masked_image[y_min:y_max, x_min:x_max]\n",
    "        m00 = np.sum(region)\n",
    "        print(f\"Sum of region (m00): {m00}, Region shape: {region.shape}\")\n",
    "\n",
    "        # Define the region for centroid calculation\n",
    "        # region = [y_min, y_max, x_min, x_max]\n",
    "        region = masked_image[y_min:y_max, x_min:x_max]  # This is the corrected line\n",
    "        m00 = np.sum(region)\n",
    "        print(f\"Sum of region (m00): {m00}\")  # Debug print\n",
    "        if m00 == 0:\n",
    "            print(\"Region is empty, skipping centroid calculation\")\n",
    "            continue\n",
    "\n",
    "\n",
    "        # # Define the region around the current clump for centroid calculation\n",
    "        # region = [int(max(0, row['Y_clump'] - 3)), int(min(image_data.shape[0], row['Y_clump'] + 4)),\n",
    "        #           int(max(0, row['X_clump'] - 3)), int(min(image_data.shape[1], row['X_clump'] + 4))]\n",
    "        \n",
    "        # Compute the centroid of the masked clump\n",
    "        new_centroid = centroid(masked_image, region=region)\n",
    "        print(f\"Computed centroid: {new_centroid}\")  # Debug print\n",
    "\n",
    "       \n",
    "\n",
    "        # Update the DataFrame with the new centroid coordinates\n",
    "        goodss_result.at[index, 'new_X_centroid'] = new_centroid[0]\n",
    "        goodss_result.at[index, 'new_Y_centroid'] = new_centroid[1]\n",
    "\n",
    "\n",
    "    \n",
    "        \n",
    "goodss_result.to_csv('/Users/neal/Documents/PhD/projects/SED-fitting/Clump/results/newcenters_goodsslast.csv',index=False)"
   ]
  },
  {
   "cell_type": "markdown",
   "metadata": {},
   "source": [
    "# Inspection:"
   ]
  },
  {
   "cell_type": "code",
   "execution_count": null,
   "metadata": {},
   "outputs": [],
   "source": []
  }
 ],
 "metadata": {
  "kernelspec": {
   "display_name": "base",
   "language": "python",
   "name": "python3"
  },
  "language_info": {
   "codemirror_mode": {
    "name": "ipython",
    "version": 3
   },
   "file_extension": ".py",
   "mimetype": "text/x-python",
   "name": "python",
   "nbconvert_exporter": "python",
   "pygments_lexer": "ipython3",
   "version": "3.10.8"
  }
 },
 "nbformat": 4,
 "nbformat_minor": 2
}
