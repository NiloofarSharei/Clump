{
 "cells": [
  {
   "cell_type": "code",
   "execution_count": 15,
   "metadata": {},
   "outputs": [],
   "source": [
    "import numpy as np\n",
    "import pandas as pd\n",
    "from astropy.wcs import WCS\n",
    "from astropy.io import fits\n",
    "import matplotlib.pyplot as plt\n"
   ]
  },
  {
   "cell_type": "code",
   "execution_count": 6,
   "metadata": {},
   "outputs": [],
   "source": [
    "goodss_result = pd.read_csv('/Users/neal/Documents/PhD/projects/SED-fitting/Clump/results/catalog_n/goodsslast.csv')"
   ]
  },
  {
   "cell_type": "code",
   "execution_count": 12,
   "metadata": {},
   "outputs": [],
   "source": [
    "def load_image(galaxy_id, band):\n",
    "    # the base path where the FITS files \n",
    "    base_path = '/Users/neal/Documents/PhD/projects/SED-fitting/Clump/Cutouts_galaxies'\n",
    "    \n",
    "    # Construct the filename using the galaxy ID and band\n",
    "    file_name = f'{base_path}/goodss_{galaxy_id}_{band}_images.fits'\n",
    "    \n",
    "    # Open the FITS file and return the image data\n",
    "    with fits.open(file_name) as hdul:\n",
    "        image_data = hdul[0].data\n",
    "    \n",
    "    return image_data"
   ]
  },
  {
   "cell_type": "code",
   "execution_count": 16,
   "metadata": {},
   "outputs": [],
   "source": [
    "# Loop over the catalog\n",
    "for index, row in goodss_result.iterrows():\n",
    "    if row['Clump_ID'] != -99:  # Ensure this is an actual detected clump\n",
    "        \n",
    "        # Map redshift to band directly\n",
    "        if 0.5 <= row['z'] < 1:\n",
    "            band = 'f275w'\n",
    "        elif 1 <= row['z'] < 2:\n",
    "            band = 'f435w'\n",
    "        elif 2 <= row['z'] <= 3:\n",
    "            band = 'f606w'\n",
    "        else:\n",
    "            raise ValueError(\"Redshift out of bounds for band selection\")\n",
    "        \n",
    "        image_data = load_image(row['CANDELS_ID'], band)"
   ]
  },
  {
   "cell_type": "code",
   "execution_count": 17,
   "metadata": {},
   "outputs": [],
   "source": [
    "def apply_mask(image, clump_positions, current_index, mask_radius=3):\n",
    "    mask = np.ones_like(image, dtype=bool)\n",
    "    for i, pos in enumerate(clump_positions):\n",
    "        if i != current_index:\n",
    "            x, y = pos\n",
    "            mask[max(0, y - mask_radius):min(image.shape[0], y + mask_radius + 1),\n",
    "                 max(0, x - mask_radius):min(image.shape[1], x + mask_radius + 1)] = False\n",
    "    return image * mask"
   ]
  },
  {
   "cell_type": "code",
   "execution_count": 18,
   "metadata": {},
   "outputs": [],
   "source": [
    "def centroid(im, region=None):\n",
    "    \"\"\"Compute centroid of image or region (M10/M00, M01/M00) (x, y).\"\"\"\n",
    "    if region is not None:\n",
    "        im = im[region[0]:region[1], region[2]:region[3]]\n",
    "        offset = [region[2], region[0]]\n",
    "    else: \n",
    "        offset = [0, 0]\n",
    "    m00 = np.sum(im)\n",
    "    m10 = np.sum(np.sum(im, axis=1) * np.arange(im.shape[0]))\n",
    "    m01 = np.sum(np.sum(im, axis=0) * np.arange(im.shape[1]))\n",
    "    return [m10 / m00 + offset[0], m01 / m00 + offset[1]]\n"
   ]
  },
  {
   "cell_type": "code",
   "execution_count": 9,
   "metadata": {},
   "outputs": [],
   "source": [
    "mask_radius = 3"
   ]
  },
  {
   "cell_type": "code",
   "execution_count": 19,
   "metadata": {},
   "outputs": [],
   "source": [
    "goodss_result['new_X_centroid'] = np.nan\n",
    "goodss_result['new_Y_centroid'] = np.nan\n"
   ]
  },
  {
   "cell_type": "code",
   "execution_count": null,
   "metadata": {},
   "outputs": [],
   "source": [
    "# Assuming your DataFrame has 'X_clump' and 'Y_clump' columns with initial clump positions\n",
    "\n",
    "for index, row in goodss_result.iterrows():\n",
    "    if row['Clump_ID'] != -99:  # Exclude entries without a detected clump\n",
    "        # Get the appropriate band based on redshift\n",
    "        band = get_band_from_redshift(row['z'])\n",
    "        \n",
    "        # Load the image data for the current clump\n",
    "        image_data = load_image(row['CANDELS_ID'], band)\n",
    "\n",
    "        # Get all clump positions for the current galaxy (excluding the current clump)\n",
    "        clump_positions = [(x, y) for idx, (x, y) in enumerate(zip(goodss_result['X_clump'], goodss_result['Y_clump'])) if idx != index]\n",
    "\n",
    "        # Apply the mask to the image data\n",
    "        masked_image = apply_mask(image_data, clump_positions, index, mask_radius=3)\n",
    "\n",
    "        # Define the region around the current clump for centroid calculation\n",
    "        region = [int(max(0, row['Y_clump'] - 3)), int(min(image_data.shape[0], row['Y_clump'] + 4)),\n",
    "                  int(max(0, row['X_clump'] - 3)), int(min(image_data.shape[1], row['X_clump'] + 4))]\n",
    "        \n",
    "        # Compute the centroid of the masked clump\n",
    "        new_centroid = centroid(masked_image, region=region)\n",
    "\n",
    "        # Update the DataFrame with the new centroid coordinates\n",
    "        goodss_result.at[index, 'new_X_centroid'] = new_centroid[0]\n",
    "        goodss_result.at[index, 'new_Y_centroid'] = new_centroid[1]\n"
   ]
  },
  {
   "cell_type": "code",
   "execution_count": null,
   "metadata": {},
   "outputs": [],
   "source": [
    "updated_catalog_path = '/Users/neal/Documents/PhD/projects/SED-fitting/Clump/results/newcenters_goodsslast.csv'\n",
    "goodss_result.to_csv(updated_catalog_path, index=False)\n"
   ]
  },
  {
   "cell_type": "code",
   "execution_count": 10,
   "metadata": {},
   "outputs": [
    {
     "ename": "NameError",
     "evalue": "name 'load_image' is not defined",
     "output_type": "error",
     "traceback": [
      "\u001b[0;31m---------------------------------------------------------------------------\u001b[0m",
      "\u001b[0;31mNameError\u001b[0m                                 Traceback (most recent call last)",
      "Cell \u001b[0;32mIn[10], line 4\u001b[0m\n\u001b[1;32m      2\u001b[0m \u001b[38;5;28;01mfor\u001b[39;00m index, row \u001b[38;5;129;01min\u001b[39;00m goodss_result\u001b[38;5;241m.\u001b[39miterrows():\n\u001b[1;32m      3\u001b[0m     \u001b[38;5;28;01mif\u001b[39;00m row[\u001b[38;5;124m'\u001b[39m\u001b[38;5;124mClump_ID\u001b[39m\u001b[38;5;124m'\u001b[39m] \u001b[38;5;241m!=\u001b[39m \u001b[38;5;241m-\u001b[39m\u001b[38;5;241m99\u001b[39m:\n\u001b[0;32m----> 4\u001b[0m         image_data \u001b[38;5;241m=\u001b[39m \u001b[43mload_image\u001b[49m(row[\u001b[38;5;124m'\u001b[39m\u001b[38;5;124mCANDELS_ID\u001b[39m\u001b[38;5;124m'\u001b[39m], appropriate_band_based_on_z(row[\u001b[38;5;124m'\u001b[39m\u001b[38;5;124mz\u001b[39m\u001b[38;5;124m'\u001b[39m]))\n\u001b[1;32m      5\u001b[0m         clump_positions \u001b[38;5;241m=\u001b[39m [(x, y) \u001b[38;5;28;01mfor\u001b[39;00m x, y \u001b[38;5;129;01min\u001b[39;00m \u001b[38;5;28mzip\u001b[39m(goodss_result[\u001b[38;5;124m'\u001b[39m\u001b[38;5;124mRA_clump\u001b[39m\u001b[38;5;124m'\u001b[39m], goodss_result[\u001b[38;5;124m'\u001b[39m\u001b[38;5;124mDEC_clump\u001b[39m\u001b[38;5;124m'\u001b[39m])]\n\u001b[1;32m      6\u001b[0m         current_position \u001b[38;5;241m=\u001b[39m (row[\u001b[38;5;124m'\u001b[39m\u001b[38;5;124mRA_clump\u001b[39m\u001b[38;5;124m'\u001b[39m], row[\u001b[38;5;124m'\u001b[39m\u001b[38;5;124mDEC_clump\u001b[39m\u001b[38;5;124m'\u001b[39m])\n",
      "\u001b[0;31mNameError\u001b[0m: name 'load_image' is not defined"
     ]
    }
   ],
   "source": [
    "# # Process each clump to find the new centers\n",
    "# for index, row in goodss_result.iterrows():\n",
    "#     if row['Clump_ID'] != -99:\n",
    "#         image_data = load_image(row['CANDELS_ID'], appropriate_band_based_on_z(row['z']))\n",
    "#         clump_positions = [(x, y) for x, y in zip(goodss_result['RA_clump'], goodss_result['DEC_clump'])]\n",
    "#         current_position = (row['RA_clump'], row['DEC_clump'])\n",
    "        \n",
    "#         # Apply the mask to the image to ignore other clumps\n",
    "#         masked_image = apply_mask(image_data, clump_positions, index, mask_radius)\n",
    "\n",
    "#         # Define the region for centroid calculation directly here\n",
    "#         region = (max(0, int(current_position[1]) - mask_radius), \n",
    "#                   min(masked_image.shape[0], int(current_position[1]) + mask_radius + 1),\n",
    "#                   max(0, int(current_position[0]) - mask_radius), \n",
    "#                   min(masked_image.shape[1], int(current_position[0]) + mask_radius + 1))\n",
    "\n",
    "#         # Calculate the centroid for the current clump\n",
    "#         new_centroid = centroid(masked_image, region=region)\n",
    "\n",
    "#         # Update the DataFrame with the new centroid values\n",
    "#         goodss_result.at[index, 'RA_clump'] = new_centroid[0]\n",
    "#         goodss_result.at[index, 'DEC_clump'] = new_centroid[1]\n",
    "\n",
    "# # Save the updated results\n",
    "# goodss_result.to_csv(result_sample_fname, index=False)"
   ]
  },
  {
   "cell_type": "code",
   "execution_count": null,
   "metadata": {},
   "outputs": [],
   "source": []
  }
 ],
 "metadata": {
  "kernelspec": {
   "display_name": "base",
   "language": "python",
   "name": "python3"
  },
  "language_info": {
   "codemirror_mode": {
    "name": "ipython",
    "version": 3
   },
   "file_extension": ".py",
   "mimetype": "text/x-python",
   "name": "python",
   "nbconvert_exporter": "python",
   "pygments_lexer": "ipython3",
   "version": "3.10.8"
  }
 },
 "nbformat": 4,
 "nbformat_minor": 2
}
