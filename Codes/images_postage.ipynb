{
 "cells": [
  {
   "cell_type": "code",
   "execution_count": 1,
   "metadata": {},
   "outputs": [
    {
     "name": "stdout",
     "output_type": "stream",
     "text": [
      "Using numpy version 1.25.2\n",
      "Using astropy version 5.3.4\n"
     ]
    }
   ],
   "source": [
    "# numpy\n",
    "import numpy as np\n",
    "from numpy import unravel_index\n",
    "print( 'Using numpy version %s' % np.__version__ )\n",
    "\n",
    "# system\n",
    "import glob, os\n",
    "\n",
    "# astropy\n",
    "import astropy as astro\n",
    "from astropy.table import Table\n",
    "from astropy.io import ascii, fits\n",
    "from astropy.stats import sigma_clip\n",
    "from astropy.convolution import convolve_fft\n",
    "import astropy.units as u\n",
    "from astropy.cosmology import Planck15\n",
    "from astropy.coordinates import SkyCoord\n",
    "from astropy.nddata.utils import Cutout2D\n",
    "from astropy.wcs import WCS\n",
    "print( 'Using astropy version %s' % astro.__version__ )"
   ]
  },
  {
   "cell_type": "code",
   "execution_count": 4,
   "metadata": {},
   "outputs": [],
   "source": [
    "cat_f = ascii.read('/Users/neal/Documents/PhD/RESEARCH/SED-fitting/Clumps/CLUMPS CAT/goodss.csv',format='csv')"
   ]
  },
  {
   "cell_type": "code",
   "execution_count": 11,
   "metadata": {},
   "outputs": [
    {
     "name": "stdout",
     "output_type": "stream",
     "text": [
      "col0 Field  CANDELS_ID ...      flux_ratio         restuv_flux    \n",
      "---- ------ ---------- ... -------------------- ------------------\n",
      "   0 goodss         22 ...  0.19578567108288222 0.3164179480636164\n",
      "   1 goodss         22 ...   0.1695197157677944 0.3164179480636164\n",
      "   2 goodss         57 ...  0.10364008924329396 0.4994750317480541\n",
      "   3 goodss         57 ...   0.0788097351940999 0.4994750317480541\n",
      "   4 goodss         57 ...  0.07453074247911845 0.4994750317480541\n",
      "   5 goodss        107 ...  0.07467484662471327 0.9056698371912716\n",
      "   6 goodss        107 ... 0.043057936763231046 0.9056698371912716\n",
      "   7 goodss        107 ...  0.04406163065197181 0.9056698371912716\n",
      "   8 goodss        111 ...   0.4709956879358855 0.7618348518896169\n",
      "   9 goodss        111 ...   0.1402403886713046 0.7618348518896169\n",
      " ...    ...        ... ...                  ...                ...\n",
      "6346 goodss      26729 ...  0.34144902409456196           0.458726\n",
      "6347 goodss      26729 ...   0.3683952825315894           0.458726\n",
      "6348 goodss      26729 ...  0.16356925066841646           0.458726\n",
      "6349 goodss      26731 ...   0.3819154787407198           0.295431\n",
      "6350 goodss      26731 ...  0.45715324608493524           0.295431\n",
      "6351 goodss      26732 ...  0.30447283701078776           0.708228\n",
      "6352 goodss      26732 ...  0.33786639304262467           0.708228\n",
      "6353 goodss      26732 ...   0.1267602904128503           0.708228\n",
      "6354 goodss      26753 ...   0.7650480817118124            0.30911\n",
      "6355 goodss      26753 ...  0.26984912288852014            0.30911\n",
      "6356 goodss      26763 ...                -99.0              -99.0\n",
      "Length = 6357 rows\n",
      "['col0', 'Field', 'CANDELS_ID', 'z', 'RA_gal', 'DEC_gal', 'A', 'Clump_ID', 'dist_clump', 'flux_ratio', 'restuv_flux']\n"
     ]
    }
   ],
   "source": [
    "print(cat_f)\n",
    "print(cat_f.colnames)"
   ]
  },
  {
   "cell_type": "code",
   "execution_count": 16,
   "metadata": {},
   "outputs": [
    {
     "data": {
      "text/plain": [
       "0.95"
      ]
     },
     "execution_count": 16,
     "metadata": {},
     "output_type": "execute_result"
    }
   ],
   "source": [
    "cat_f['z'][0]"
   ]
  },
  {
   "cell_type": "code",
   "execution_count": 9,
   "metadata": {},
   "outputs": [
    {
     "name": "stdout",
     "output_type": "stream",
     "text": [
      "2907\n"
     ]
    }
   ],
   "source": [
    "galaxy_IDS=np.unique(cat_f['CANDELS_ID'])\n",
    "print(len(galaxy_IDS))"
   ]
  },
  {
   "cell_type": "markdown",
   "metadata": {},
   "source": [
    "# GOODSS- Cutouts"
   ]
  },
  {
   "cell_type": "code",
   "execution_count": 31,
   "metadata": {},
   "outputs": [],
   "source": [
    "bands = ['275','435', '606', '775', '850', '125', '140', '160']\n",
    "\n",
    "length = 200\n",
    "\n",
    "for i in range( len( galaxy_IDS ) ):\n",
    "    \n",
    "    gal_id = galaxy_IDS[i]\n",
    "    field = 'goodss'\n",
    "    \n",
    "    idx_in_catalog = np.where(cat_f['CANDELS_ID'] == gal_id)[0]\n",
    "\n",
    "    if len(idx_in_catalog) > 1:\n",
    "        coords = SkyCoord(cat_f['RA_gal'][idx_in_catalog][0], cat_f['DEC_gal'][idx_in_catalog][0], unit='deg')\n",
    "    else:\n",
    "        coords = SkyCoord(cat_f['RA_gal'][idx_in_catalog], cat_f['DEC_gal'][idx_in_catalog], unit='deg')\n",
    "    \n",
    "    if field == \"goodss\":\n",
    "        \n",
    "        for b in bands:\n",
    "            # path to F275W mosaics\n",
    "            if b == '275':\n",
    "                band_f_list = glob.glob('/Users/neal/Documents/PhD/RESEARCH/SED-fitting/Clumps/UV candels/*_goodss-*%s*.fits' % b)\n",
    "                k_f = '/Users/neal/Documents/PhD/RESEARCH/SED-fitting/Clumps/kerneluv2h.fits'\n",
    "\n",
    "                sci_ind = np.where( np.array( ['sci' in f for f in band_f_list] ) )[0][0]\n",
    "                wht_ind = np.where( np.array( ['wht' in f for f in band_f_list] ) )[0][0]\n",
    "        \n",
    "                # candels mosaic\n",
    "                hdulist_c = fits.open(band_f_list[sci_ind])\n",
    "                hdu_c = hdulist_c[0]\n",
    "                wcs_c = WCS(hdu_c.header)\n",
    "                wcs_c.sip = None\n",
    "\n",
    "                # weight image\n",
    "                hdulist_w = fits.open(band_f_list[wht_ind])\n",
    "                hdu_w = hdulist_w[0]\n",
    "                wcs_w = WCS(hdu_w.header)\n",
    "                wcs_w.sip = None\n",
    "\n",
    "                # psf-matching kernel\n",
    "                hdulist_k = fits.open(k_f)\n",
    "                hdu_k = hdulist_k[0]\n",
    "\n",
    "                # create cutouts\n",
    "                cutout_c = Cutout2D(hdu_c.data, coords, (length, length), wcs=wcs_c)\n",
    "                cutout_w = Cutout2D(hdu_w.data, coords, (length, length), wcs=wcs_w)\n",
    "\n",
    "                cutout_c_conv = convolve_fft( cutout_c.data, hdu_k.data)\n",
    "                #cutout_w_conv = convolve_fft( cutout_w.data, hdu_k.data)\n",
    "                cutout_w = cutout_w.data\n",
    "                cutout_exp = cutout_exp.data\n",
    "\n",
    "                img_wcs = cutout_c.wcs.to_header()\n",
    "        \n",
    "                convert_factor = hdu_c.header['PHOTFNU']\n",
    "        \n",
    "                hdu1 = fits.HDUList()\n",
    "                hdu1.append(fits.PrimaryHDU(header=img_wcs))\n",
    "                hdu1.append(fits.ImageHDU())\n",
    "                hdu1.append(fits.ImageHDU())\n",
    "\n",
    "                header = hdu1[0].header\n",
    "\n",
    "                hdu1[0].data = cutout_c_conv\n",
    "                hdu1[1].data = cutout_w\n",
    "\n",
    "                header['Ext1'] = ('Science image')\n",
    "                header['Ext2'] = ('Weight image')\n",
    "                header['PHOT_ZP'] = (convert_factor, 'conversion factor to measure flux in Jy')\n",
    "\n",
    "                hdu1.writeto('/Users/neal/Documents/PhD/RESEARCH/SED-fitting/Clumps/Cutouts/goodss_%d_f%s%s_images.fits' % (gal_id, b, band_ext), overwrite=True)\n",
    "                \n",
    "                hdulist_c.close()\n",
    "                hdulist_exp.close()\n",
    "                hdulist_k.close()\n",
    "                hdulist_w.close()\n",
    "\n",
    "            else:\n",
    "                # list of mosaics\n",
    "                band_f_list = glob.glob( '/Users/neal/Documents/PhD/RESEARCH/SED-fitting/Clumps/GOODSS/goodss_*%s*' % b )\n",
    "                \n",
    "                # If the bandpass!= F160W, retrieve the psf matching kernel.\n",
    "                if b != '160':\n",
    "                    kernel_f = glob.glob('/Users/neal/Documents/PhD/RESEARCH/SED-fitting/Clumps/psfs/goodss_*_psf/*%sW_kernel.fits.gz' % b)\n",
    "                    band_ext = 'w'\n",
    "        \n",
    "                    # If the file naming convention is different:\n",
    "                    if len( kernel_f ) == 0:\n",
    "                        kernel_f = glob.glob('/Users/neal/Documents/PhD/RESEARCH/SED-fitting/Clumps/psfs/goodss_*_psf/*%sWcand_kernel.fits.gz' % b)\n",
    "            \n",
    "                        # For F850LP:\n",
    "                        if len( kernel_f ) == 0:\n",
    "                            kernel_f = glob.glob('//Users/neal/Documents/PhD/RESEARCH/SED-fitting/Clumps/psfs/goodss_*_psf/*%sLP_kernel.fits.gz' % b)\n",
    "                            band_ext = 'lp'\n",
    "                        \n",
    "                    k_f = kernel_f[0]\n",
    "\n",
    "            \n",
    "\n",
    "                drz_ind = np.where( np.array( ['drz' in f for f in band_f_list] ) )[0][0]\n",
    "                exp_ind = np.where( np.array( ['exp' in f for f in band_f_list] ) )[0][0]\n",
    "                wht_ind = np.where( np.array( ['wht' in f for f in band_f_list] ) )[0][0]\n",
    "        \n",
    "                # candels mosaic\n",
    "                hdulist_c = fits.open(band_f_list[drz_ind])\n",
    "                hdu_c = hdulist_c[0]\n",
    "                wcs_c = WCS(hdu_c.header)\n",
    "                wcs_c.sip = None\n",
    "\n",
    "                # weight image\n",
    "                hdulist_w = fits.open(band_f_list[wht_ind])\n",
    "                hdu_w = hdulist_w[0]\n",
    "                wcs_w = WCS(hdu_w.header)\n",
    "                wcs_w.sip = None\n",
    "\n",
    "                # exposure time image\n",
    "                hdulist_exp = fits.open(band_f_list[exp_ind])\n",
    "                hdu_exp = hdulist_exp[0]\n",
    "                wcs_exp = WCS(hdu_exp.header)\n",
    "                wcs_exp.sip = None\n",
    "\n",
    "                # 3dhst psf-matching kernel\n",
    "                hdulist_k = fits.open(k_f)\n",
    "                hdu_k = hdulist_k[0]\n",
    "\n",
    "                # create cutouts\n",
    "                cutout_c = Cutout2D(hdu_c.data, coords, (length, length), wcs=wcs_c)\n",
    "                cutout_w = Cutout2D(hdu_w.data, coords, (length, length), wcs=wcs_w)\n",
    "                cutout_exp = Cutout2D(hdu_exp.data, coords, (length, length), wcs=wcs_exp)\n",
    "        \n",
    "                if b != '160':\n",
    "                    cutout_c_conv = convolve_fft( cutout_c.data, hdu_k.data)\n",
    "                    #cutout_w_conv = convolve_fft( cutout_w.data, hdu_k.data)\n",
    "                    cutout_w = cutout_w.data\n",
    "                    cutout_exp = cutout_exp.data\n",
    "                else:\n",
    "                    cutout_c_conv = cutout_c.data\n",
    "                    cutout_w = cutout_w.data\n",
    "                    cutout_exp = cutout_exp.data\n",
    "\n",
    "                img_wcs = cutout_c.wcs.to_header()\n",
    "        \n",
    "                if 'b' == '125' or b == '140' or b == '160':\n",
    "                    convert_factor = hdu_c.header['PHOTFNU']\n",
    "                else:\n",
    "                    convert_factor = hdu_c.header['PHOTFLAM'] * hdu_c.header['PHOTPLAM'] ** 2 * 1e23 / (2.99792458e18)\n",
    "        \n",
    "                hdu1 = fits.HDUList()\n",
    "                hdu1.append(fits.PrimaryHDU(header=img_wcs))\n",
    "                hdu1.append(fits.ImageHDU())\n",
    "                hdu1.append(fits.ImageHDU())\n",
    "                hdu1.append(fits.ImageHDU())\n",
    "\n",
    "                header = hdu1[0].header\n",
    "\n",
    "                hdu1[0].data = cutout_c_conv\n",
    "                hdu1[1].data = cutout_w\n",
    "                hdu1[2].data = cutout_exp\n",
    "\n",
    "                header['Ext1'] = ('Science image')\n",
    "                header['Ext2'] = ('Weight image')\n",
    "                header['Ext3'] = ('Exposure time image')\n",
    "                header['PHOT_ZP'] = (convert_factor, 'conversion factor to measure flux in Jy')\n",
    "\n",
    "                hdu1.writeto('/Users/neal/Documents/PhD/RESEARCH/SED-fitting/Clumps/Cutouts/goodss_%d_f%s%s_images.fits' % (gal_id, b, band_ext), overwrite=True)\n",
    "                \n",
    "                hdulist_c.close()\n",
    "                hdulist_exp.close()\n",
    "                hdulist_k.close()\n",
    "                hdulist_w.close()"
   ]
  },
  {
   "cell_type": "code",
   "execution_count": 14,
   "metadata": {},
   "outputs": [
    {
     "name": "stdout",
     "output_type": "stream",
     "text": [
      " z  \n",
      "----\n",
      "2.94\n",
      "2.94\n"
     ]
    }
   ],
   "source": [
    "idx = np.where(cat_f['CANDELS_ID'] == 18)[0]\n",
    "\n",
    "print(cat_f['z'][idx])"
   ]
  },
  {
   "cell_type": "code",
   "execution_count": 30,
   "metadata": {},
   "outputs": [
    {
     "data": {
      "text/plain": [
       "['/Users/neal/Documents/PhD/RESEARCH/SED-fitting/Clumps/UV candels/hlsp_uvcandels_hst_wfc3-uvis_goodss-60mas_f275w_v1.0_wht.fits',\n",
       " '/Users/neal/Documents/PhD/RESEARCH/SED-fitting/Clumps/UV candels/hlsp_uvcandels_hst_wfc3-uvis_goodss-60mas_f275w_v1.0_sci.fits',\n",
       " '/Users/neal/Documents/PhD/RESEARCH/SED-fitting/Clumps/UV candels/hlsp_uvcandels_hst_wfc3-uvis_goodss-60mas_f275w_v1.0_rms.fits']"
      ]
     },
     "execution_count": 30,
     "metadata": {},
     "output_type": "execute_result"
    }
   ],
   "source": [
    "glob.glob('/Users/neal/Documents/PhD/RESEARCH/SED-fitting/Clumps/UV candels/*_goodss-*.fits')"
   ]
  },
  {
   "cell_type": "code",
   "execution_count": null,
   "metadata": {},
   "outputs": [],
   "source": []
  }
 ],
 "metadata": {
  "kernelspec": {
   "display_name": "base",
   "language": "python",
   "name": "python3"
  },
  "language_info": {
   "codemirror_mode": {
    "name": "ipython",
    "version": 3
   },
   "file_extension": ".py",
   "mimetype": "text/x-python",
   "name": "python",
   "nbconvert_exporter": "python",
   "pygments_lexer": "ipython3",
   "version": "3.10.8"
  }
 },
 "nbformat": 4,
 "nbformat_minor": 2
}
