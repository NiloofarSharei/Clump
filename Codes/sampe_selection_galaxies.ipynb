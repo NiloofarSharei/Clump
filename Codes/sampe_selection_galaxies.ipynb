{
 "cells": [
  {
   "cell_type": "code",
   "execution_count": 3,
   "metadata": {},
   "outputs": [],
   "source": [
    "from astropy.table import Table\n",
    "import pandas as pd\n",
    "from astropy.cosmology import Planck15 as cosmo\n",
    "from astropy import units as u\n",
    "from astropy.io import ascii, fits\n",
    "from astropy.cosmology import FlatLambdaCDM\n",
    "import matplotlib.pyplot as plt\n",
    "import numpy as np"
   ]
  },
  {
   "cell_type": "markdown",
   "metadata": {},
   "source": [
    "# Loading merged cat:"
   ]
  },
  {
   "cell_type": "code",
   "execution_count": 24,
   "metadata": {},
   "outputs": [
    {
     "name": "stderr",
     "output_type": "stream",
     "text": [
      "/var/folders/by/26kj85kd3w94p3xv_m2206b40000gn/T/ipykernel_89208/116826839.py:2: DtypeWarning: Columns (679,681,683) have mixed types. Specify dtype option on import or set low_memory=False.\n",
      "  merged_cat = pd.read_csv('/Users/neal/Documents/PhD/RESEARCH/SED-fitting/Clump/Candelscat/GOODSS/matched_zahra_alex.csv', header=0)\n"
     ]
    }
   ],
   "source": [
    "# # Specify the correct parameters when reading the CSV file\n",
    "# merged_cat = pd.read_csv('/Users/neal/Documents/PhD/RESEARCH/SED-fitting/Clump/Candelscat/GOODSS/matched_zahra_alex.csv', header=0)\n",
    "# #"
   ]
  },
  {
   "cell_type": "code",
   "execution_count": 43,
   "metadata": {},
   "outputs": [],
   "source": [
    " merged_cat= ascii.read ('/Users/neal/Documents/PhD/RESEARCH/SED-fitting/Clump/matched_zahra_alex.csv')"
   ]
  },
  {
   "cell_type": "markdown",
   "metadata": {},
   "source": [
    "# Age of univ:"
   ]
  },
  {
   "cell_type": "code",
   "execution_count": 11,
   "metadata": {},
   "outputs": [],
   "source": [
    "cosmo = FlatLambdaCDM(H0=70, Om0=0.3)\n",
    "def calculate_age_of_universe_at_z(z):\n",
    "    # Calculate the age of the Universe at redshift z in Gyr\n",
    "    age = cosmo.age(z).value  # Age in Gyr\n",
    "    return age"
   ]
  },
  {
   "cell_type": "code",
   "execution_count": 12,
   "metadata": {},
   "outputs": [
    {
     "data": {
      "text/plain": [
       "8.426346017751783"
      ]
     },
     "execution_count": 12,
     "metadata": {},
     "output_type": "execute_result"
    }
   ],
   "source": [
    "calculate_age_of_universe_at_z(0.5) # testing the age function"
   ]
  },
  {
   "cell_type": "code",
   "execution_count": 44,
   "metadata": {},
   "outputs": [],
   "source": [
    "# converting to pandas\n",
    "if isinstance(merged_cat, Table):\n",
    "    merged_cat = merged_cat.to_pandas()"
   ]
  },
  {
   "cell_type": "code",
   "execution_count": 45,
   "metadata": {},
   "outputs": [
    {
     "data": {
      "text/plain": [
       "(34930, 757)"
      ]
     },
     "execution_count": 45,
     "metadata": {},
     "output_type": "execute_result"
    }
   ],
   "source": [
    "merged_cat.shape"
   ]
  },
  {
   "cell_type": "code",
   "execution_count": 46,
   "metadata": {},
   "outputs": [
    {
     "name": "stdout",
     "output_type": "stream",
     "text": [
      "Index(['ID', 'IAU_designation', 'RA', 'DEC', 'ID_UV', 'DIST_MATCH',\n",
      "       'WFC3_F275W_FLUX_OLD', 'WFC3_F275W_FLUXERR_OLD', 'FLAG_COVER',\n",
      "       'WFC3_F275W_FLUX_IMPROVED',\n",
      "       ...\n",
      "       'use_zgrism', 'CLEAR_z', 'Morris_zgrism', 'Morris_quality',\n",
      "       'Bouwens_zphot', 'McLure_zphot', 'UVUDF_zphot', 'use_z', 'use_z_flag',\n",
      "       'use_z_err'],\n",
      "      dtype='object', length=757)\n"
     ]
    }
   ],
   "source": [
    "print(merged_cat.columns)"
   ]
  },
  {
   "cell_type": "code",
   "execution_count": 47,
   "metadata": {},
   "outputs": [],
   "source": [
    "merged_cat = merged_cat[(merged_cat['CLASS_STAR'] <= 0.9)]"
   ]
  },
  {
   "cell_type": "code",
   "execution_count": 48,
   "metadata": {},
   "outputs": [
    {
     "data": {
      "text/plain": [
       "(34401, 757)"
      ]
     },
     "execution_count": 48,
     "metadata": {},
     "output_type": "execute_result"
    }
   ],
   "source": [
    "merged_cat.shape"
   ]
  },
  {
   "cell_type": "code",
   "execution_count": 49,
   "metadata": {},
   "outputs": [],
   "source": [
    "# Calculate axial ratio q = B_image / A_image and apply filters\n",
    "merged_cat['A_IMAGE_arcsec'] = merged_cat['A_IMAGE'] * 0.06\n",
    "merged_cat['B_IMAGE_arcsec'] = merged_cat['B_IMAGE'] * 0.06\n",
    "\n",
    "merged_cat['axial_ratio'] = merged_cat['B_IMAGE_arcsec'] / merged_cat['A_IMAGE_arcsec']"
   ]
  },
  {
   "cell_type": "code",
   "execution_count": 50,
   "metadata": {},
   "outputs": [
    {
     "data": {
      "text/plain": [
       "(34401, 760)"
      ]
     },
     "execution_count": 50,
     "metadata": {},
     "output_type": "execute_result"
    }
   ],
   "source": [
    "merged_cat.shape"
   ]
  },
  {
   "cell_type": "code",
   "execution_count": 51,
   "metadata": {},
   "outputs": [],
   "source": [
    "filtered_data = merged_cat[\n",
    "    (merged_cat['kodra_z_best'] >= 0.5) & (merged_cat['kodra_z_best'] < 3) &\n",
    "    (merged_cat['CANDELS_F160W'] <= 25) &\n",
    "    (merged_cat['CANDELS_log_mstar'] >= 9.5) &\n",
    "    (merged_cat['axial_ratio'] > 0.5) &\n",
    "    (merged_cat['A_IMAGE_arcsec'] > 0.2)\n",
    "].copy()  # Added .copy() here"
   ]
  },
  {
   "cell_type": "code",
   "execution_count": 52,
   "metadata": {},
   "outputs": [
    {
     "data": {
      "text/plain": [
       "(2818, 760)"
      ]
     },
     "execution_count": 52,
     "metadata": {},
     "output_type": "execute_result"
    }
   ],
   "source": [
    "filtered_data.shape"
   ]
  },
  {
   "cell_type": "code",
   "execution_count": 53,
   "metadata": {},
   "outputs": [],
   "source": [
    "#  Calculate SFR and sSFR\n",
    "filtered_data['SFR'] = 10**filtered_data['CANDELS_log_SFR']  # Assuming candels_log_sfr is log10(SFR)\n",
    "filtered_data['sSFR'] = (10**filtered_data['SFR']) / (10**filtered_data['CANDELS_log_mstar'])\n"
   ]
  },
  {
   "cell_type": "code",
   "execution_count": 54,
   "metadata": {},
   "outputs": [],
   "source": [
    "# Calculate the age of the Universe at each galaxy's redshift and apply the sSFR threshold\n",
    "filtered_data['tU_z'] = filtered_data['kodra_z_best'].apply(calculate_age_of_universe_at_z)* 1e9 ## Have to convert the units of age from Gyr to yr, bcz the ssfr unit is 1/yr.\n",
    "filtered_data = filtered_data[filtered_data['sSFR'] > 0.2 / filtered_data['tU_z']]\n"
   ]
  },
  {
   "cell_type": "code",
   "execution_count": 55,
   "metadata": {},
   "outputs": [
    {
     "data": {
      "text/plain": [
       "(2676, 763)"
      ]
     },
     "execution_count": 55,
     "metadata": {},
     "output_type": "execute_result"
    }
   ],
   "source": [
    "filtered_data.shape"
   ]
  },
  {
   "cell_type": "code",
   "execution_count": 56,
   "metadata": {},
   "outputs": [],
   "source": [
    "\n",
    "valid_indices= []\n",
    "for idx, row in filtered_data.iterrows():\n",
    "    # Check for the first redshift bin and corresponding observation\n",
    "    if 0.5 <= filtered_data['kodra_z_best'][idx] and filtered_data['kodra_z_best'][idx]< 1 and filtered_data['WFC3_F275W_FLUX_IMPROVED'][idx] != -99:\n",
    "        valid_indices.append(idx)\n",
    "    elif 1 <= filtered_data['kodra_z_best'][idx] and filtered_data['kodra_z_best'][idx]< 2 and filtered_data['ACS_F435W_FLUX'][idx] != -99:\n",
    "        valid_indices.append(idx)\n",
    "    elif 2 <= filtered_data['kodra_z_best'][idx] and filtered_data['kodra_z_best'][idx]< 3 and filtered_data['ACS_F606W_FLUX'][idx] != -99:\n",
    "        valid_indices.append(idx)"
   ]
  },
  {
   "cell_type": "code",
   "execution_count": 172,
   "metadata": {},
   "outputs": [],
   "source": [
    "from astropy.table import Table\n",
    "\n",
    "# back to an Astropy Table\n",
    "if isinstance(filtered_data, pd.DataFrame):\n",
    "    filtered_data_table = Table.from_pandas(filtered_data)\n"
   ]
  },
  {
   "cell_type": "code",
   "execution_count": 178,
   "metadata": {},
   "outputs": [
    {
     "data": {
      "text/plain": [
       "2676"
      ]
     },
     "execution_count": 178,
     "metadata": {},
     "output_type": "execute_result"
    }
   ],
   "source": [
    "len(filtered_data_table)"
   ]
  },
  {
   "cell_type": "code",
   "execution_count": 183,
   "metadata": {},
   "outputs": [],
   "source": [
    "\n",
    "valid_indices_table= []\n",
    "for idx in range(len(filtered_data_table)):\n",
    "    # Check for the first redshift bin and corresponding observation\n",
    "    if 0.5 <= filtered_data_table['kodra_z_best'][idx] and filtered_data_table['kodra_z_best'][idx]< 1 and filtered_data_table['WFC3_F275W_FLUX_IMPROVED'][idx] != -99:\n",
    "        valid_indices_table.append(idx)\n",
    "    elif 1 <= filtered_data_table['kodra_z_best'][idx] and filtered_data_table['kodra_z_best'][idx]< 2 and filtered_data_table['ACS_F435W_FLUX'][idx] != -99:\n",
    "        valid_indices_table.append(idx)\n",
    "    elif 2 <= filtered_data_table['kodra_z_best'][idx] and filtered_data_table['kodra_z_best'][idx]< 3 and filtered_data_table['ACS_F606W_FLUX'][idx] != -99:\n",
    "        valid_indices_table.append(idx)"
   ]
  },
  {
   "cell_type": "code",
   "execution_count": 186,
   "metadata": {},
   "outputs": [
    {
     "name": "stdout",
     "output_type": "stream",
     "text": [
      "2119\n",
      "[2669, 2670, 2672, 2673]\n"
     ]
    }
   ],
   "source": [
    "print(len(valid_indices_table))\n",
    "print(valid_indices_table[-5:-1])"
   ]
  },
  {
   "cell_type": "code",
   "execution_count": 187,
   "metadata": {},
   "outputs": [],
   "source": [
    "valid_indices_table =np.asarray(valid_indices_table)\n",
    "filtered_data_table=filtered_data_table[valid_indices_table]"
   ]
  },
  {
   "cell_type": "code",
   "execution_count": 195,
   "metadata": {},
   "outputs": [
    {
     "name": "stdout",
     "output_type": "stream",
     "text": [
      "  ID             IAU_designation            ...        tU_z       \n",
      "----- ------------------------------------- ... ------------------\n",
      "   18 CANDELS_GDS_F160W_J033224.84-275723.3 ...  2411234228.415048\n",
      "   31 CANDELS_GDS_F160W_J033224.91-275714.4 ...  2402498254.289286\n",
      "   40 CANDELS_GDS_F160W_J033221.18-275715.3 ...  5536057423.015836\n",
      "   49 CANDELS_GDS_F160W_J033221.74-275708.7 ...  3210993224.622638\n",
      "   57 CANDELS_GDS_F160W_J033225.62-275708.7 ...  7639226316.586187\n",
      "   73 CANDELS_GDS_F160W_J033223.88-275656.9 ...  4127161320.334082\n",
      "   79 CANDELS_GDS_F160W_J033221.72-275701.9 ...  5704352551.862238\n",
      "   97 CANDELS_GDS_F160W_J033220.08-275650.0 ...  2419043535.479037\n",
      "  107 CANDELS_GDS_F160W_J033220.42-275654.1 ...  7657686708.093629\n",
      "  135 CANDELS_GDS_F160W_J033234.14-275640.0 ... 2268633729.4320045\n",
      "  ...                                   ... ...                ...\n",
      "26728 CANDELS_GDS_F160W_J033234.08-274222.2 ... 4244424049.8812056\n",
      "26732 CANDELS_GDS_F160W_J033212.47-274221.4 ... 2451701393.5934057\n",
      "26736 CANDELS_GDS_F160W_J033226.40-274228.2 ... 3942255659.3471165\n",
      "26744 CANDELS_GDS_F160W_J033227.82-274207.7 ...  3731854703.093975\n",
      "26751 CANDELS_GDS_F160W_J033237.68-274219.3 ...  4360484128.215101\n",
      "26755 CANDELS_GDS_F160W_J033234.28-274224.9 ... 5418511336.0355015\n",
      "26763 CANDELS_GDS_F160W_J033232.44-274221.5 ...   2676515282.84678\n",
      "26766 CANDELS_GDS_F160W_J033214.97-274224.8 ... 3328040299.4739676\n",
      "26783 CANDELS_GDS_F160W_J033236.09-274224.6 ... 2453703958.5446568\n",
      "26788 CANDELS_GDS_F160W_J033223.88-274222.1 ...  4143591749.096512\n",
      "26801 CANDELS_GDS_F160W_J033221.60-274233.2 ... 3649062926.4129825\n",
      "Length = 2119 rows\n"
     ]
    }
   ],
   "source": [
    "print(filtered_data_table)"
   ]
  },
  {
   "cell_type": "code",
   "execution_count": 194,
   "metadata": {},
   "outputs": [],
   "source": [
    "filtered_data_table.rename_column('ID_1', 'ID')\n"
   ]
  },
  {
   "cell_type": "code",
   "execution_count": null,
   "metadata": {},
   "outputs": [],
   "source": []
  },
  {
   "cell_type": "code",
   "execution_count": 192,
   "metadata": {},
   "outputs": [],
   "source": [
    "from astropy.table import Table\n",
    "\n",
    "# Assuming 'filtered_data_table' is an Astropy Table that has been filtered as per your requirements\n",
    "# Save the table to a CSV file\n",
    "filtered_data_table.write('./filtered_data_table_goodss.csv', format='csv', overwrite=True)\n"
   ]
  },
  {
   "cell_type": "code",
   "execution_count": null,
   "metadata": {},
   "outputs": [],
   "source": []
  }
 ],
 "metadata": {
  "kernelspec": {
   "display_name": "base",
   "language": "python",
   "name": "python3"
  },
  "language_info": {
   "codemirror_mode": {
    "name": "ipython",
    "version": 3
   },
   "file_extension": ".py",
   "mimetype": "text/x-python",
   "name": "python",
   "nbconvert_exporter": "python",
   "pygments_lexer": "ipython3",
   "version": "3.10.8"
  }
 },
 "nbformat": 4,
 "nbformat_minor": 2
}
