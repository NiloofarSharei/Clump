{
 "cells": [
  {
   "cell_type": "code",
   "execution_count": 1,
   "metadata": {},
   "outputs": [],
   "source": [
    "from astropy.table import Table\n",
    "import pandas as pd\n",
    "from astropy.cosmology import Planck15 as cosmo\n",
    "from astropy import units as u\n",
    "from astropy.io import ascii, fits\n",
    "from astropy.cosmology import FlatLambdaCDM\n",
    "import matplotlib.pyplot as plt\n",
    "import numpy as np"
   ]
  },
  {
   "cell_type": "markdown",
   "metadata": {},
   "source": [
    "# Loading merged cat:"
   ]
  },
  {
   "cell_type": "code",
   "execution_count": 24,
   "metadata": {},
   "outputs": [
    {
     "name": "stderr",
     "output_type": "stream",
     "text": [
      "/var/folders/by/26kj85kd3w94p3xv_m2206b40000gn/T/ipykernel_89208/116826839.py:2: DtypeWarning: Columns (679,681,683) have mixed types. Specify dtype option on import or set low_memory=False.\n",
      "  merged_cat = pd.read_csv('/Users/neal/Documents/PhD/RESEARCH/SED-fitting/Clump/Candelscat/GOODSS/matched_zahra_alex.csv', header=0)\n"
     ]
    }
   ],
   "source": [
    "# # Specify the correct parameters when reading the CSV file\n",
    "# merged_cat = pd.read_csv('/Users/neal/Documents/PhD/RESEARCH/SED-fitting/Clump/Candelscat/GOODSS/matched_zahra_alex.csv', header=0)\n",
    "# #"
   ]
  },
  {
   "cell_type": "code",
   "execution_count": 128,
   "metadata": {},
   "outputs": [],
   "source": [
    " merged_cat= ascii.read ('/Users/neal/Documents/PhD/RESEARCH/SED-fitting/Clump/matched_zahra_alex.csv')"
   ]
  },
  {
   "cell_type": "markdown",
   "metadata": {},
   "source": [
    "# Age of univ:"
   ]
  },
  {
   "cell_type": "code",
   "execution_count": 47,
   "metadata": {},
   "outputs": [],
   "source": [
    "cosmo = FlatLambdaCDM(H0=70, Om0=0.3)\n",
    "def calculate_age_of_universe_at_z(z):\n",
    "    # Calculate the age of the Universe at redshift z in Gyr\n",
    "    age = cosmo.age(z).value  # Age in Gyr\n",
    "    return age"
   ]
  },
  {
   "cell_type": "code",
   "execution_count": 48,
   "metadata": {},
   "outputs": [
    {
     "data": {
      "text/plain": [
       "8.426346017751783"
      ]
     },
     "execution_count": 48,
     "metadata": {},
     "output_type": "execute_result"
    }
   ],
   "source": [
    "calculate_age_of_universe_at_z(0.5) # testing the age function"
   ]
  },
  {
   "cell_type": "code",
   "execution_count": 129,
   "metadata": {},
   "outputs": [],
   "source": [
    "# converting to pandas\n",
    "if isinstance(merged_cat, Table):\n",
    "    merged_cat = merged_cat.to_pandas()"
   ]
  },
  {
   "cell_type": "code",
   "execution_count": 112,
   "metadata": {},
   "outputs": [
    {
     "data": {
      "text/plain": [
       "(34930, 757)"
      ]
     },
     "execution_count": 112,
     "metadata": {},
     "output_type": "execute_result"
    }
   ],
   "source": [
    "merged_cat.shape"
   ]
  },
  {
   "cell_type": "code",
   "execution_count": 130,
   "metadata": {},
   "outputs": [
    {
     "name": "stdout",
     "output_type": "stream",
     "text": [
      "Index(['ID', 'IAU_designation', 'RA', 'DEC', 'ID_UV', 'DIST_MATCH',\n",
      "       'WFC3_F275W_FLUX_OLD', 'WFC3_F275W_FLUXERR_OLD', 'FLAG_COVER',\n",
      "       'WFC3_F275W_FLUX_IMPROVED',\n",
      "       ...\n",
      "       'use_zgrism', 'CLEAR_z', 'Morris_zgrism', 'Morris_quality',\n",
      "       'Bouwens_zphot', 'McLure_zphot', 'UVUDF_zphot', 'use_z', 'use_z_flag',\n",
      "       'use_z_err'],\n",
      "      dtype='object', length=757)\n"
     ]
    }
   ],
   "source": [
    "print(merged_cat.columns)"
   ]
  },
  {
   "cell_type": "code",
   "execution_count": 131,
   "metadata": {},
   "outputs": [],
   "source": [
    "merged_cat = merged_cat[(merged_cat['CLASS_STAR'] <= 0.9)]"
   ]
  },
  {
   "cell_type": "code",
   "execution_count": 96,
   "metadata": {},
   "outputs": [
    {
     "data": {
      "text/plain": [
       "(34401, 757)"
      ]
     },
     "execution_count": 96,
     "metadata": {},
     "output_type": "execute_result"
    }
   ],
   "source": [
    "merged_cat.shape"
   ]
  },
  {
   "cell_type": "code",
   "execution_count": 132,
   "metadata": {},
   "outputs": [],
   "source": [
    "# Calculate axial ratio q = B_image / A_image and apply filters\n",
    "merged_cat['A_IMAGE_arcsec'] = merged_cat['A_IMAGE'] * 0.06\n",
    "merged_cat['B_IMAGE_arcsec'] = merged_cat['B_IMAGE'] * 0.06\n",
    "\n",
    "merged_cat['axial_ratio'] = merged_cat['B_IMAGE_arcsec'] / merged_cat['A_IMAGE_arcsec']"
   ]
  },
  {
   "cell_type": "code",
   "execution_count": 116,
   "metadata": {},
   "outputs": [
    {
     "data": {
      "text/plain": [
       "(34401, 760)"
      ]
     },
     "execution_count": 116,
     "metadata": {},
     "output_type": "execute_result"
    }
   ],
   "source": [
    "merged_cat.shape"
   ]
  },
  {
   "cell_type": "code",
   "execution_count": 133,
   "metadata": {},
   "outputs": [],
   "source": [
    "filtered_data = merged_cat[\n",
    "    (merged_cat['kodra_z_best'] >= 0.5) & (merged_cat['kodra_z_best'] < 3) &\n",
    "    (merged_cat['CANDELS_F160W'] <= 25) &\n",
    "    (merged_cat['best.stellar.m_star'] >= 10**9.5) &\n",
    "    (merged_cat['axial_ratio'] > 0.5) &\n",
    "    (merged_cat['vdw_reff'] > 0.2)\n",
    "].copy()  # Added .copy() here"
   ]
  },
  {
   "cell_type": "code",
   "execution_count": 134,
   "metadata": {},
   "outputs": [
    {
     "data": {
      "text/plain": [
       "(2125, 760)"
      ]
     },
     "execution_count": 134,
     "metadata": {},
     "output_type": "execute_result"
    }
   ],
   "source": [
    "filtered_data.shape"
   ]
  },
  {
   "cell_type": "code",
   "execution_count": 135,
   "metadata": {},
   "outputs": [],
   "source": [
    "#  Calculate SFR and sSFR\n",
    "filtered_data['SFR'] = filtered_data['best.sfh.sfr100Myrs']  # Assuming best.sfh.sfr is linear\n",
    "filtered_data['sSFR'] = (filtered_data['SFR']) / (filtered_data['best.stellar.m_star'])\n"
   ]
  },
  {
   "cell_type": "code",
   "execution_count": 136,
   "metadata": {},
   "outputs": [],
   "source": [
    "# Calculate the age of the Universe at each galaxy's redshift and apply the sSFR threshold\n",
    "filtered_data['tU_z'] = filtered_data['kodra_z_best'].apply(calculate_age_of_universe_at_z)* 1e9 ## Have to convert the units of age from Gyr to yr, bcz the ssfr unit is 1/yr.\n",
    "filtered_data = filtered_data[filtered_data['sSFR'] > 0.2 / filtered_data['tU_z']]\n"
   ]
  },
  {
   "cell_type": "code",
   "execution_count": 137,
   "metadata": {},
   "outputs": [
    {
     "data": {
      "text/plain": [
       "(1815, 763)"
      ]
     },
     "execution_count": 137,
     "metadata": {},
     "output_type": "execute_result"
    }
   ],
   "source": [
    "filtered_data.shape"
   ]
  },
  {
   "cell_type": "code",
   "execution_count": 138,
   "metadata": {},
   "outputs": [],
   "source": [
    "\n",
    "valid_indices= []\n",
    "for idx, row in filtered_data.iterrows():\n",
    "    # Check for the first redshift bin and corresponding observation\n",
    "    if 0.5 <= filtered_data['kodra_z_best'][idx] and filtered_data['kodra_z_best'][idx]< 1 and filtered_data['WFC3_F275W_FLUX_IMPROVED'][idx] != -99:\n",
    "        valid_indices.append(idx)\n",
    "    elif 1 <= filtered_data['kodra_z_best'][idx] and filtered_data['kodra_z_best'][idx]< 2 and filtered_data['ACS_F435W_FLUX'][idx] != -99:\n",
    "        valid_indices.append(idx)\n",
    "    elif 2 <= filtered_data['kodra_z_best'][idx] and filtered_data['kodra_z_best'][idx]< 3 and filtered_data['ACS_F606W_FLUX'][idx] != -99:\n",
    "        valid_indices.append(idx)"
   ]
  },
  {
   "cell_type": "code",
   "execution_count": 139,
   "metadata": {},
   "outputs": [],
   "source": [
    "from astropy.table import Table\n",
    "\n",
    "# back to an Astropy Table\n",
    "if isinstance(filtered_data, pd.DataFrame):\n",
    "    filtered_data_table = Table.from_pandas(filtered_data)\n"
   ]
  },
  {
   "cell_type": "code",
   "execution_count": 140,
   "metadata": {},
   "outputs": [
    {
     "data": {
      "text/plain": [
       "1815"
      ]
     },
     "execution_count": 140,
     "metadata": {},
     "output_type": "execute_result"
    }
   ],
   "source": [
    "len(filtered_data_table)"
   ]
  },
  {
   "cell_type": "code",
   "execution_count": 141,
   "metadata": {},
   "outputs": [],
   "source": [
    "\n",
    "valid_indices_table= []\n",
    "for idx in range(len(filtered_data_table)):\n",
    "    # Check for the first redshift bin and corresponding observation\n",
    "    if 0.5 <= filtered_data_table['kodra_z_best'][idx] and filtered_data_table['kodra_z_best'][idx]< 1 and filtered_data_table['WFC3_F275W_FLUX_IMPROVED'][idx] != -99:\n",
    "        valid_indices_table.append(idx)\n",
    "    elif 1 <= filtered_data_table['kodra_z_best'][idx] and filtered_data_table['kodra_z_best'][idx]< 2 and filtered_data_table['ACS_F435W_FLUX'][idx] != -99:\n",
    "        valid_indices_table.append(idx)\n",
    "    elif 2 <= filtered_data_table['kodra_z_best'][idx] and filtered_data_table['kodra_z_best'][idx]< 3 and filtered_data_table['ACS_F606W_FLUX'][idx] != -99:\n",
    "        valid_indices_table.append(idx)"
   ]
  },
  {
   "cell_type": "code",
   "execution_count": 142,
   "metadata": {},
   "outputs": [
    {
     "name": "stdout",
     "output_type": "stream",
     "text": [
      "1491\n",
      "[1808, 1809, 1811, 1813]\n"
     ]
    }
   ],
   "source": [
    "print(len(valid_indices_table))\n",
    "print(valid_indices_table[-5:-1])"
   ]
  },
  {
   "cell_type": "code",
   "execution_count": 143,
   "metadata": {},
   "outputs": [],
   "source": [
    "valid_indices_table =np.asarray(valid_indices_table)\n",
    "filtered_data_table=filtered_data_table[valid_indices_table]"
   ]
  },
  {
   "cell_type": "code",
   "execution_count": 88,
   "metadata": {},
   "outputs": [
    {
     "name": "stdout",
     "output_type": "stream",
     "text": [
      "  ID             IAU_designation            ...        tU_z       \n",
      "----- ------------------------------------- ... ------------------\n",
      "   18 CANDELS_GDS_F160W_J033224.84-275723.3 ...  2411234228.415048\n",
      "   31 CANDELS_GDS_F160W_J033224.91-275714.4 ...  2402498254.289286\n",
      "   40 CANDELS_GDS_F160W_J033221.18-275715.3 ...  5536057423.015836\n",
      "   49 CANDELS_GDS_F160W_J033221.74-275708.7 ...  3210993224.622638\n",
      "   73 CANDELS_GDS_F160W_J033223.88-275656.9 ...  4127161320.334082\n",
      "   79 CANDELS_GDS_F160W_J033221.72-275701.9 ...  5704352551.862238\n",
      "   97 CANDELS_GDS_F160W_J033220.08-275650.0 ...  2419043535.479037\n",
      "  107 CANDELS_GDS_F160W_J033220.42-275654.1 ...  7657686708.093629\n",
      "  135 CANDELS_GDS_F160W_J033234.14-275640.0 ... 2268633729.4320045\n",
      "  137 CANDELS_GDS_F160W_J033220.70-275642.3 ...  7232583625.799038\n",
      "  ...                                   ... ...                ...\n",
      "26711 CANDELS_GDS_F160W_J033242.14-274220.8 ...  2541368052.190691\n",
      "26728 CANDELS_GDS_F160W_J033234.08-274222.2 ... 4244424049.8812056\n",
      "26732 CANDELS_GDS_F160W_J033212.47-274221.4 ... 2451701393.5934057\n",
      "26736 CANDELS_GDS_F160W_J033226.40-274228.2 ... 3942255659.3471165\n",
      "26744 CANDELS_GDS_F160W_J033227.82-274207.7 ...  3731854703.093975\n",
      "26751 CANDELS_GDS_F160W_J033237.68-274219.3 ...  4360484128.215101\n",
      "26753 CANDELS_GDS_F160W_J033224.92-274214.8 ... 2556301072.4292483\n",
      "26755 CANDELS_GDS_F160W_J033234.28-274224.9 ... 5418511336.0355015\n",
      "26763 CANDELS_GDS_F160W_J033232.44-274221.5 ...   2676515282.84678\n",
      "26783 CANDELS_GDS_F160W_J033236.09-274224.6 ... 2453703958.5446568\n",
      "26788 CANDELS_GDS_F160W_J033223.88-274222.1 ...  4143591749.096512\n",
      "Length = 1811 rows\n"
     ]
    }
   ],
   "source": [
    "print(filtered_data_table)"
   ]
  },
  {
   "cell_type": "code",
   "execution_count": 62,
   "metadata": {},
   "outputs": [
    {
     "ename": "KeyError",
     "evalue": "'Column ID already exists'",
     "output_type": "error",
     "traceback": [
      "\u001b[0;31m---------------------------------------------------------------------------\u001b[0m",
      "\u001b[0;31mKeyError\u001b[0m                                  Traceback (most recent call last)",
      "Cell \u001b[0;32mIn[62], line 1\u001b[0m\n\u001b[0;32m----> 1\u001b[0m \u001b[43mfiltered_data_table\u001b[49m\u001b[38;5;241;43m.\u001b[39;49m\u001b[43mrename_column\u001b[49m\u001b[43m(\u001b[49m\u001b[38;5;124;43m'\u001b[39;49m\u001b[38;5;124;43mID_1\u001b[39;49m\u001b[38;5;124;43m'\u001b[39;49m\u001b[43m,\u001b[49m\u001b[43m \u001b[49m\u001b[38;5;124;43m'\u001b[39;49m\u001b[38;5;124;43mID\u001b[39;49m\u001b[38;5;124;43m'\u001b[39;49m\u001b[43m)\u001b[49m\n",
      "File \u001b[0;32m~/anaconda3/lib/python3.10/site-packages/astropy/table/table.py:3058\u001b[0m, in \u001b[0;36mTable.rename_column\u001b[0;34m(self, name, new_name)\u001b[0m\n\u001b[1;32m   3055\u001b[0m \u001b[38;5;28;01mif\u001b[39;00m name \u001b[38;5;129;01mnot\u001b[39;00m \u001b[38;5;129;01min\u001b[39;00m \u001b[38;5;28mself\u001b[39m\u001b[38;5;241m.\u001b[39mkeys():\n\u001b[1;32m   3056\u001b[0m     \u001b[38;5;28;01mraise\u001b[39;00m \u001b[38;5;167;01mKeyError\u001b[39;00m(\u001b[38;5;124mf\u001b[39m\u001b[38;5;124m\"\u001b[39m\u001b[38;5;124mColumn \u001b[39m\u001b[38;5;132;01m{\u001b[39;00mname\u001b[38;5;132;01m}\u001b[39;00m\u001b[38;5;124m does not exist\u001b[39m\u001b[38;5;124m\"\u001b[39m)\n\u001b[0;32m-> 3058\u001b[0m \u001b[38;5;28mself\u001b[39m\u001b[38;5;241m.\u001b[39mcolumns[name]\u001b[38;5;241m.\u001b[39minfo\u001b[38;5;241m.\u001b[39mname \u001b[38;5;241m=\u001b[39m new_name\n",
      "File \u001b[0;32m~/anaconda3/lib/python3.10/site-packages/astropy/utils/data_info.py:244\u001b[0m, in \u001b[0;36mParentAttribute.__set__\u001b[0;34m(self, instance, value)\u001b[0m\n\u001b[1;32m    240\u001b[0m \u001b[38;5;28;01mif\u001b[39;00m instance \u001b[38;5;129;01mis\u001b[39;00m \u001b[38;5;28;01mNone\u001b[39;00m:\n\u001b[1;32m    241\u001b[0m     \u001b[38;5;66;03m# This is an unbound descriptor on the class\u001b[39;00m\n\u001b[1;32m    242\u001b[0m     \u001b[38;5;28;01mraise\u001b[39;00m \u001b[38;5;167;01mValueError\u001b[39;00m(\u001b[38;5;124m\"\u001b[39m\u001b[38;5;124mcannot set unbound descriptor\u001b[39m\u001b[38;5;124m\"\u001b[39m)\n\u001b[0;32m--> 244\u001b[0m \u001b[38;5;28;43msetattr\u001b[39;49m\u001b[43m(\u001b[49m\u001b[43minstance\u001b[49m\u001b[38;5;241;43m.\u001b[39;49m\u001b[43m_parent\u001b[49m\u001b[43m,\u001b[49m\u001b[43m \u001b[49m\u001b[38;5;28;43mself\u001b[39;49m\u001b[38;5;241;43m.\u001b[39;49m\u001b[43mattr\u001b[49m\u001b[43m,\u001b[49m\u001b[43m \u001b[49m\u001b[43mvalue\u001b[49m\u001b[43m)\u001b[49m\n",
      "File \u001b[0;32m~/anaconda3/lib/python3.10/site-packages/astropy/table/column.py:1262\u001b[0m, in \u001b[0;36mColumn.__setattr__\u001b[0;34m(self, item, value)\u001b[0m\n\u001b[1;32m   1258\u001b[0m \u001b[38;5;28;01mif\u001b[39;00m \u001b[38;5;129;01mnot\u001b[39;00m \u001b[38;5;28misinstance\u001b[39m(\u001b[38;5;28mself\u001b[39m, MaskedColumn) \u001b[38;5;129;01mand\u001b[39;00m item \u001b[38;5;241m==\u001b[39m \u001b[38;5;124m\"\u001b[39m\u001b[38;5;124mmask\u001b[39m\u001b[38;5;124m\"\u001b[39m:\n\u001b[1;32m   1259\u001b[0m     \u001b[38;5;28;01mraise\u001b[39;00m \u001b[38;5;167;01mAttributeError\u001b[39;00m(\n\u001b[1;32m   1260\u001b[0m         \u001b[38;5;124m\"\u001b[39m\u001b[38;5;124mcannot set mask value to a column in non-masked Table\u001b[39m\u001b[38;5;124m\"\u001b[39m\n\u001b[1;32m   1261\u001b[0m     )\n\u001b[0;32m-> 1262\u001b[0m \u001b[38;5;28;43msuper\u001b[39;49m\u001b[43m(\u001b[49m\u001b[43m)\u001b[49m\u001b[38;5;241;43m.\u001b[39;49m\u001b[38;5;21;43m__setattr__\u001b[39;49m\u001b[43m(\u001b[49m\u001b[43mitem\u001b[49m\u001b[43m,\u001b[49m\u001b[43m \u001b[49m\u001b[43mvalue\u001b[49m\u001b[43m)\u001b[49m\n\u001b[1;32m   1264\u001b[0m \u001b[38;5;28;01mif\u001b[39;00m item \u001b[38;5;241m==\u001b[39m \u001b[38;5;124m\"\u001b[39m\u001b[38;5;124munit\u001b[39m\u001b[38;5;124m\"\u001b[39m \u001b[38;5;129;01mand\u001b[39;00m \u001b[38;5;28missubclass\u001b[39m(\u001b[38;5;28mself\u001b[39m\u001b[38;5;241m.\u001b[39mdtype\u001b[38;5;241m.\u001b[39mtype, np\u001b[38;5;241m.\u001b[39mnumber):\n\u001b[1;32m   1265\u001b[0m     \u001b[38;5;28;01mtry\u001b[39;00m:\n",
      "File \u001b[0;32m~/anaconda3/lib/python3.10/site-packages/astropy/table/column.py:760\u001b[0m, in \u001b[0;36mBaseColumn.name\u001b[0;34m(self, val)\u001b[0m\n\u001b[1;32m    758\u001b[0m \u001b[38;5;28;01mif\u001b[39;00m \u001b[38;5;28mself\u001b[39m\u001b[38;5;241m.\u001b[39mparent_table \u001b[38;5;129;01mis\u001b[39;00m \u001b[38;5;129;01mnot\u001b[39;00m \u001b[38;5;28;01mNone\u001b[39;00m:\n\u001b[1;32m    759\u001b[0m     table \u001b[38;5;241m=\u001b[39m \u001b[38;5;28mself\u001b[39m\u001b[38;5;241m.\u001b[39mparent_table\n\u001b[0;32m--> 760\u001b[0m     \u001b[43mtable\u001b[49m\u001b[38;5;241;43m.\u001b[39;49m\u001b[43mcolumns\u001b[49m\u001b[38;5;241;43m.\u001b[39;49m\u001b[43m_rename_column\u001b[49m\u001b[43m(\u001b[49m\u001b[38;5;28;43mself\u001b[39;49m\u001b[38;5;241;43m.\u001b[39;49m\u001b[43mname\u001b[49m\u001b[43m,\u001b[49m\u001b[43m \u001b[49m\u001b[43mval\u001b[49m\u001b[43m)\u001b[49m\n\u001b[1;32m    762\u001b[0m \u001b[38;5;28mself\u001b[39m\u001b[38;5;241m.\u001b[39m_name \u001b[38;5;241m=\u001b[39m val\n",
      "File \u001b[0;32m~/anaconda3/lib/python3.10/site-packages/astropy/table/table.py:306\u001b[0m, in \u001b[0;36mTableColumns._rename_column\u001b[0;34m(self, name, new_name)\u001b[0m\n\u001b[1;32m    303\u001b[0m     \u001b[38;5;28;01mreturn\u001b[39;00m\n\u001b[1;32m    305\u001b[0m \u001b[38;5;28;01mif\u001b[39;00m new_name \u001b[38;5;129;01min\u001b[39;00m \u001b[38;5;28mself\u001b[39m:\n\u001b[0;32m--> 306\u001b[0m     \u001b[38;5;28;01mraise\u001b[39;00m \u001b[38;5;167;01mKeyError\u001b[39;00m(\u001b[38;5;124mf\u001b[39m\u001b[38;5;124m\"\u001b[39m\u001b[38;5;124mColumn \u001b[39m\u001b[38;5;132;01m{\u001b[39;00mnew_name\u001b[38;5;132;01m}\u001b[39;00m\u001b[38;5;124m already exists\u001b[39m\u001b[38;5;124m\"\u001b[39m)\n\u001b[1;32m    308\u001b[0m \u001b[38;5;66;03m# Rename column names in pprint include/exclude attributes as needed\u001b[39;00m\n\u001b[1;32m    309\u001b[0m parent_table \u001b[38;5;241m=\u001b[39m \u001b[38;5;28mself\u001b[39m[name]\u001b[38;5;241m.\u001b[39minfo\u001b[38;5;241m.\u001b[39mparent_table\n",
      "\u001b[0;31mKeyError\u001b[0m: 'Column ID already exists'"
     ]
    }
   ],
   "source": [
    "filtered_data_table.rename_column('ID_1', 'ID')\n"
   ]
  },
  {
   "cell_type": "code",
   "execution_count": null,
   "metadata": {},
   "outputs": [],
   "source": []
  },
  {
   "cell_type": "code",
   "execution_count": 144,
   "metadata": {},
   "outputs": [],
   "source": [
    "from astropy.table import Table\n",
    "\n",
    "# Assuming 'filtered_data_table' is an Astropy Table that has been filtered as per your requirements\n",
    "# Save the table to a CSV file\n",
    "filtered_data_table.write('./filtered_data_table_goodss4.csv', format='csv', overwrite=True)\n"
   ]
  },
  {
   "cell_type": "code",
   "execution_count": null,
   "metadata": {},
   "outputs": [],
   "source": []
  }
 ],
 "metadata": {
  "kernelspec": {
   "display_name": "base",
   "language": "python",
   "name": "python3"
  },
  "language_info": {
   "codemirror_mode": {
    "name": "ipython",
    "version": 3
   },
   "file_extension": ".py",
   "mimetype": "text/x-python",
   "name": "python",
   "nbconvert_exporter": "python",
   "pygments_lexer": "ipython3",
   "version": "3.10.8"
  }
 },
 "nbformat": 4,
 "nbformat_minor": 2
}
